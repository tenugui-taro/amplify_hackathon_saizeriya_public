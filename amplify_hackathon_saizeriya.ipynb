{
 "cells": [
  {
   "cell_type": "markdown",
   "metadata": {},
   "source": [
    "# サイゼリヤ1000円ガチャ\n",
    "\n",
    "# 開発の背景\n",
    "・量子コンピュータが気になっていたところに初心者でも扱いやすそうなサービスが出てきた。\n",
    "\n",
    "・「1000円ガチャ」（サイゼリヤのメニューから1000円ちょうどになる組み合わせをランダムで表示するWebページ）が盛り上がり話題性があった。<br />\n",
    "　[サイゼリヤ1000円ガチャをつくってみた(Heroku + Flask + LINEbot)](https://qiita.com/marusho_summers/items/a2d3681fac863734ec8a)<br />\n",
    "　[サイゼリヤ､社長も驚く｢1円値上げ｣の成果](https://toyokeizai.net/articles/-/366926?page=2) ※社長も言及"
   ]
  },
  {
   "cell_type": "markdown",
   "metadata": {},
   "source": [
    "# 事前準備\n",
    "### サイゼリヤのグランドメニューを用意\n",
    "[サイゼリヤのグランドメニュー](https://www.saizeriya.co.jp/menu/grandmenu.html)に掲載されている料理が対象\n",
    "\n",
    "※価格やカロリーが明記されていない料理に関しては適当なルールを決めて設定\n",
    "- 前菜＆おつまみ：Wサイズでは、価格とカロリーは2倍とする\n",
    "- ピザ：Wチーズでは、+100円 +100kcalとする\n",
    "- パスタ：大盛のカロリーは、(通常カロリー * 大盛価格/通常価格)とする\n",
    "- いずれも四捨五入して整数で扱う\n",
    "- カロリー表示がないものまたはソースやドレッシングなどは考慮しない"
   ]
  },
  {
   "cell_type": "code",
   "execution_count": 1,
   "metadata": {},
   "outputs": [],
   "source": [
    "# 2021/03/19 時点のサイゼリヤグランドメニュー\n",
    "GRAND_MENU = [\n",
    "    {\"price\":  350, \"calorie\":  161, \"name\": \"ガーデンサラダ\"},\n",
    "    {\"price\":  500, \"calorie\":  243, \"name\": \"ガーデンサラダ（Lサイズ）\"},\n",
    "    {\"price\":  350, \"calorie\":  188, \"name\": \"チキンのシーザーサラダ\"},\n",
    "    {\"price\":  500, \"calorie\":  281, \"name\": \"チキンのシーザーサラダ（Lサイズ）\"},\n",
    "    {\"price\":  350, \"calorie\":  126, \"name\": \"小エビのサラダ\"},\n",
    "    {\"price\":  500, \"calorie\":  189, \"name\": \"小エビのシーザーサラダ（Lサイズ）\"},\n",
    "    {\"price\":  300, \"calorie\":  223, \"name\": \"リグーリア風ミネストローネ\"},\n",
    "    {\"price\":  300, \"calorie\":  294, \"name\": \"田舎風やわらかキャベツのスープ\"},\n",
    "    {\"price\":  250, \"calorie\":  206, \"name\": \"冷たいアスパラガスのスープ\"},\n",
    "    {\"price\":  150, \"calorie\":  146, \"name\": \"コーンクリームスープ\"},\n",
    "    {\"price\":  150, \"calorie\":  189, \"name\": \"ミニフィセル\"},\n",
    "    {\"price\":  200, \"calorie\":  245, \"name\": \"ガーリックトースト\"},\n",
    "    {\"price\":  150, \"calorie\":  214, \"name\": \"プチフォッカ\"},\n",
    "    {\"price\":  100, \"calorie\":  107, \"name\": \"セットプチフォッカ\"},\n",
    "    {\"price\":  200, \"calorie\":  246, \"name\": \"シナモンプチフォッカ\"},\n",
    "    {\"price\":  200, \"calorie\":   92, \"name\": \"爽やかにんじんサラダ\"},\n",
    "    {\"price\":  300, \"calorie\":  195, \"name\": \"フレッシュチーズとトマトのサラダ\"},\n",
    "    {\"price\":  600, \"calorie\":  390, \"name\": \"フレッシュチーズとトマトのサラダ（Wサイズ）\"},\n",
    "    {\"price\":  400, \"calorie\":   55, \"name\": \"プロシュート（パルマ産熟成生ハム）\"},\n",
    "    {\"price\":  800, \"calorie\":  110, \"name\": \"プロシュート（パルマ産熟成生ハム）（Wサイズ）\"},\n",
    "    {\"price\":  300, \"calorie\":   95, \"name\": \"熟成ミラノサラミ\"},\n",
    "    {\"price\":  600, \"calorie\":  190, \"name\": \"熟成ミラノサラミ（Wサイズ）\"},\n",
    "    {\"price\":  350, \"calorie\":  188, \"name\": \"イタリア風もつ煮込み\"},\n",
    "    {\"price\":  300, \"calorie\":  140, \"name\": \"アスパラガスの温サラダ\"},\n",
    "    {\"price\":  200, \"calorie\":  214, \"name\": \"柔らか青豆の温サラダ\"},\n",
    "    {\"price\":  200, \"calorie\":  142, \"name\": \"ほうれん草のソテー\"},\n",
    "    {\"price\":  400, \"calorie\":  170, \"name\": \"ムール貝のガーリック焼き\"},\n",
    "    {\"price\":  300, \"calorie\":  215, \"name\": \"ポップコーンシュリンプ\"},\n",
    "    {\"price\":  250, \"calorie\":  376, \"name\": \"カリッとポテト\"},\n",
    "    {\"price\":  400, \"calorie\":  420, \"name\": \"チョリソー（辛味ソーセージ）\"},\n",
    "    {\"price\":  400, \"calorie\":  224, \"name\": \"アロスティチーニ（ラムの串焼き、2本）\"},\n",
    "    {\"price\":  800, \"calorie\":  448, \"name\": \"アロスティチーニ（ラムの串焼き、2本）（Wサイズ）\"},\n",
    "    {\"price\":  400, \"calorie\":  248, \"name\": \"エスカルゴのオーブン焼き\"},\n",
    "    {\"price\":  300, \"calorie\":  369, \"name\": \"辛味チキン\"},\n",
    "    {\"price\":  600, \"calorie\":  397, \"name\": \"骨付きももの辛味チキン\"},\n",
    "    {\"price\":  400, \"calorie\":  461, \"name\": \"アンチョビのフリコ\"},\n",
    "    {\"price\":  300, \"calorie\":  419, \"name\": \"フリウリ風フリコ\"},\n",
    "    {\"price\":  400, \"calorie\":  530, \"name\": \"エビクリームグラタン\"},\n",
    "    {\"price\":  400, \"calorie\":  529, \"name\": \"ほうれん草のグラタン\"},\n",
    "    {\"price\":  400, \"calorie\":  759, \"name\": \"ソーセージピザ\"},\n",
    "    {\"price\":  500, \"calorie\":  859, \"name\": \"ソーセージピザ（Wチーズ）\"},\n",
    "    {\"price\":  400, \"calorie\":  557, \"name\": \"マルゲリータピザ\"},\n",
    "    {\"price\":  500, \"calorie\":  657, \"name\": \"マルゲリータピザ（Wチーズ）\"},\n",
    "    {\"price\":  500, \"calorie\":  566, \"name\": \"バッファローモッツァレラのピザ\"},\n",
    "    {\"price\":  600, \"calorie\":  666, \"name\": \"バッファローモッツァレラのピザ（Wチーズ）\"},\n",
    "    {\"price\":  400, \"calorie\":  635, \"name\": \"パンチェッタのピザ\"},\n",
    "    {\"price\":  500, \"calorie\":  735, \"name\": \"パンチェッタのピザ（Wチーズ）\"},\n",
    "    {\"price\":  400, \"calorie\":  539, \"name\": \"野菜ときのこのピザ\"},\n",
    "    {\"price\":  500, \"calorie\":  639, \"name\": \"野菜ときのこのピザ（Wチーズ）\"},\n",
    "    {\"price\":  400, \"calorie\":  669, \"name\": \"たっぷりコーンのピザ\"},\n",
    "    {\"price\":  500, \"calorie\":  769, \"name\": \"たっぷりコーンのピザ（Wチーズ）\"},\n",
    "    {\"price\":  400, \"calorie\":  568, \"name\": \"アンチョビとルーコラのピザ\"},\n",
    "    {\"price\":  500, \"calorie\":  668, \"name\": \"アンチョビとルーコラのピザ（Wチーズ）\"},\n",
    "    {\"price\":  400, \"calorie\":  551, \"name\": \"タラコソースシシリー風\"},\n",
    "    {\"price\":  600, \"calorie\":  827, \"name\": \"タラコソースシシリー風（大盛）\"},\n",
    "    {\"price\":  400, \"calorie\":  716, \"name\": \"パルマ風スパゲッティ（トマト味）\"},\n",
    "    {\"price\":  600, \"calorie\": 1074, \"name\": \"パルマ風スパゲッティ（トマト味）（大盛）\"},\n",
    "    {\"price\":  400, \"calorie\":  579, \"name\": \"ミートソースボロニア風\"},\n",
    "    {\"price\":  600, \"calorie\":  869, \"name\": \"ミートソースボロニア風（大盛）\"},\n",
    "    {\"price\":  450, \"calorie\":  662, \"name\": \"半熟卵のミートソースボロニア風\"},\n",
    "    {\"price\":  300, \"calorie\":  535, \"name\": \"ペペロンチーノ\"},\n",
    "    {\"price\":  450, \"calorie\":  803, \"name\": \"ペペロンチーノ（大盛）\"},\n",
    "    {\"price\":  350, \"calorie\":  618, \"name\": \"半熟卵のペペロンチーノ\"},\n",
    "    {\"price\":  500, \"calorie\":  883, \"name\": \"半熟卵のペペロンチーノ（大盛）\"},\n",
    "    {\"price\":  300, \"calorie\":  534, \"name\": \"アーリオ・オーリオ\"},\n",
    "    {\"price\":  450, \"calorie\":  801, \"name\": \"アーリオ・オーリオ（大盛）\"},\n",
    "    {\"price\":  600, \"calorie\":  602, \"name\": \"ラムのラグーススパゲッティ\"},\n",
    "    {\"price\":  800, \"calorie\":  803, \"name\": \"ラムのラグーススパゲッティ（大盛）\"},\n",
    "    {\"price\":  500, \"calorie\":  714, \"name\": \"ペストジェノベーゼ\"},\n",
    "    {\"price\":  700, \"calorie\": 1000, \"name\": \"ペストジェノベーゼ（大盛）\"},\n",
    "    {\"price\":  500, \"calorie\":  668, \"name\": \"エビとブロッコリーのオーロラソース\"},\n",
    "    {\"price\":  700, \"calorie\":  935, \"name\": \"エビとブロッコリーのオーロラソース（大盛）\"},\n",
    "    {\"price\":  500, \"calorie\":  614, \"name\": \"イカの墨入りスパゲッティ\"},\n",
    "    {\"price\":  700, \"calorie\":  860, \"name\": \"イカの墨入りスパゲッティ（大盛）\"},\n",
    "    {\"price\":  500, \"calorie\":  731, \"name\": \"カルボナーラ\"},\n",
    "    {\"price\":  700, \"calorie\": 1023, \"name\": \"カルボナーラ（大盛）\"},\n",
    "    {\"price\":  400, \"calorie\":  629, \"name\": \"アラビアータ\"},\n",
    "    {\"price\":  600, \"calorie\":  944, \"name\": \"アラビアータ（大盛）\"},\n",
    "    {\"price\":  300, \"calorie\":  521, \"name\": \"ミラノ風ドリア\"},\n",
    "    {\"price\":  400, \"calorie\":  628, \"name\": \"セットプチフォッカ付きミラノ風ドリア\"},\n",
    "    {\"price\":  400, \"calorie\":  722, \"name\": \"チーズたっぷりミラノ風ドリア\"},\n",
    "    {\"price\":  350, \"calorie\":  604, \"name\": \"半熟卵のミラノ風ドリア\"},\n",
    "    {\"price\":  400, \"calorie\":  530, \"name\": \"エビクリームグラタン\"},\n",
    "    {\"price\":  400, \"calorie\":  529, \"name\": \"ほうれん草のグラタン\"},\n",
    "    {\"price\":  550, \"calorie\":  712, \"name\": \"チョリソーとハンバーグの盛合せ\"},\n",
    "    {\"price\":  400, \"calorie\":  594, \"name\": \"ハンバーグステーキ\"},\n",
    "    {\"price\":  500, \"calorie\":  666, \"name\": \"ディアボラ風ハンバーグ\"},\n",
    "    {\"price\":  500, \"calorie\":  641, \"name\": \"デミグラスソースのハンバーグ\"},\n",
    "    {\"price\":  500, \"calorie\":  705, \"name\": \"イタリアンハンバーグ\"},\n",
    "    {\"price\":  100, \"calorie\":   78, \"name\": \"ペコリーノ・ロマーノ\"},\n",
    "    {\"price\":   50, \"calorie\":   83, \"name\": \"トッピング半熟卵\"},\n",
    "    {\"price\":  150, \"calorie\":  303, \"name\": \"ライス\"},\n",
    "    {\"price\":  200, \"calorie\":  454, \"name\": \"ラージライス\"},\n",
    "    {\"price\":  100, \"calorie\":  151, \"name\": \"スモールライス\"},\n",
    "    {\"price\":  500, \"calorie\":  726, \"name\": \"若鳥のディアボラ風\"},\n",
    "    {\"price\":  500, \"calorie\":  770, \"name\": \"柔らかチキンのチーズ焼き\"},\n",
    "    {\"price\":  900, \"calorie\":  337, \"name\": \"ラムのランプステーキ\"},\n",
    "    {\"price\": 1000, \"calorie\":  640, \"name\": \"リブステーキ\"},\n",
    "    {\"price\":  100, \"calorie\":   72, \"name\": \"野菜ペースト\"},\n",
    "    {\"price\":  300, \"calorie\":  229, \"name\": \"ティラミス クラシコ\"},\n",
    "    {\"price\":  500, \"calorie\":  445, \"name\": \"プリンとティラミス クラシコの盛合せ\"},\n",
    "    {\"price\":  400, \"calorie\":  284, \"name\": \"とろけるティラミス＆コーヒーゼリー\"},\n",
    "    {\"price\":  400, \"calorie\":  186, \"name\": \"カシスとブルーベリーのパンナコッタ\"},\n",
    "    {\"price\":  200, \"calorie\":  114, \"name\": \"カプチーノ（アイスケーキ）\"},\n",
    "    {\"price\":  350, \"calorie\":  182, \"name\": \"イタリアンジェラートのせコーヒーゼリー\"},\n",
    "    {\"price\":  250, \"calorie\":  121, \"name\": \"イタリアンジェラート\"},\n",
    "    {\"price\":  200, \"calorie\":  127, \"name\": \"すっきりレモンのシャーベット\"},\n",
    "    {\"price\":  250, \"calorie\":  216, \"name\": \"イタリアンプリン\"},\n",
    "    {\"price\":  300, \"calorie\":  166, \"name\": \"チョコレートケーキ\"},\n",
    "    {\"price\":  350, \"calorie\":  164, \"name\": \"トリフアイスクリーム\"},\n",
    "    {\"price\":  100, \"calorie\":   40, \"name\": \"フルーツソース（カシス＆ブルーベリー）\"},\n",
    "]"
   ]
  },
  {
   "cell_type": "markdown",
   "metadata": {},
   "source": [
    "### 扱いやすいように個別のリストに値を格納"
   ]
  },
  {
   "cell_type": "code",
   "execution_count": 2,
   "metadata": {},
   "outputs": [],
   "source": [
    "# 料理の名前リスト\n",
    "GRAND_MENU_NAMES = []\n",
    "\n",
    "# 料理の価格リスト\n",
    "GRAND_MENU_PRICES = []\n",
    "\n",
    "# 料理のカロリーリスト\n",
    "GRAND_MENU_CALORIES = []\n",
    "\n",
    "# 料理数\n",
    "GRAND_MENU_NUM = len(GRAND_MENU)\n",
    "\n",
    "# それぞれのリストに値を格納\n",
    "for i in range(GRAND_MENU_NUM):\n",
    "    GRAND_MENU_NAMES.append(GRAND_MENU[i][\"name\"]) \n",
    "    GRAND_MENU_PRICES.append(GRAND_MENU[i][\"price\"])\n",
    "    GRAND_MENU_CALORIES.append(GRAND_MENU[i][\"calorie\"])"
   ]
  },
  {
   "cell_type": "markdown",
   "metadata": {},
   "source": [
    "# 制約条件の定式化\n",
    "まずは「1000円ガチャ」のルールを表す制約条件を考えます。<br />\n",
    "ここでルールはシンプルに１つだけ。\n",
    "- グランドメニューから1000円になるように注文\n",
    "\n",
    "次に、定式化にあたってQUBO模型とイジング模型のどちらを使うか考えます。<br />\n",
    "今回は選択された料理だけ扱いたいので、0または1の値をとるQUBO模型を採用します。<br />\n",
    "それぞれの料理にバイナリ変数を用意し「0：注文しない」「１：注文」として表します。<br />"
   ]
  },
  {
   "cell_type": "markdown",
   "metadata": {},
   "source": [
    "### バイナリ変数の定義"
   ]
  },
  {
   "cell_type": "code",
   "execution_count": 3,
   "metadata": {},
   "outputs": [],
   "source": [
    "from amplify import(\n",
    "    gen_symbols,\n",
    "    BinaryPoly,\n",
    ")\n",
    "\n",
    "# 料理の数だけバイナリ変数を生成\n",
    "q = gen_symbols(BinaryPoly, GRAND_MENU_NUM)"
   ]
  },
  {
   "cell_type": "markdown",
   "metadata": {},
   "source": [
    "### 目的関数の構築\n",
    "合計金額がぴったり1000円のとき最小の値をとるような関数を定義します。<br />\n",
    "`p`：価格<br />\n",
    "`q`：バイナリ変数\n",
    "\n",
    "$$\n",
    "f = \\left(1000 -\\sum_{i=0}^{N-1}p_iq_i\\right)^2\n",
    "$$"
   ]
  },
  {
   "cell_type": "code",
   "execution_count": 4,
   "metadata": {},
   "outputs": [],
   "source": [
    "# 目指す合計金額\n",
    "TOTAL_AMOUNT = 1000\n",
    "\n",
    "# 目的関数の構築\n",
    "f = BinaryPoly()\n",
    "\n",
    "for i in range(GRAND_MENU_NUM):\n",
    "    f += GRAND_MENU_PRICES[i] * q[i] \n",
    "\n",
    "f = (TOTAL_AMOUNT - f) ** 2"
   ]
  },
  {
   "cell_type": "markdown",
   "metadata": {},
   "source": [
    "### クライアントの設定\n",
    "※client.token はアカウントのアクセストークンに置換してください"
   ]
  },
  {
   "cell_type": "code",
   "execution_count": 5,
   "metadata": {},
   "outputs": [],
   "source": [
    "from amplify.client import FixstarsClient\n",
    "from amplify import Solver\n",
    "from amplify import decode_solution\n",
    "\n",
    "# クライアントの設定\n",
    "client = FixstarsClient()\n",
    "client.parameters.timeout = 1000   # タイムアウト1秒\n",
    "# client.token = \"xxxxxxxxxxxxxxxxxxxxxxxxxx\" # アカウントトークンに置換 \n",
    "client.parameters.outputs.duplicate = False  # 同じエネルギー値の解を列挙しない\n",
    "\n",
    "solver = Solver(client)\n",
    "result = solver.solve(f)"
   ]
  },
  {
   "cell_type": "markdown",
   "metadata": {},
   "source": [
    "### 解の取得"
   ]
  },
  {
   "cell_type": "code",
   "execution_count": 6,
   "metadata": {},
   "outputs": [
    {
     "name": "stdout",
     "output_type": "stream",
     "text": [
      "f = 0.0\n"
     ]
    }
   ],
   "source": [
    "# 解が得られなかった場合、len(result) == 0\n",
    "if len(result) == 0:\n",
    "    raise RuntimeError(\"No solution was found\")\n",
    "    \n",
    "energy = result[0].energy\n",
    "values = result[0].values\n",
    "\n",
    "# エネルギー値 (f の最小値) を確認\n",
    "print(f\"f = {energy}\")"
   ]
  },
  {
   "cell_type": "markdown",
   "metadata": {},
   "source": [
    "### 解の表示"
   ]
  },
  {
   "cell_type": "code",
   "execution_count": 7,
   "metadata": {},
   "outputs": [
    {
     "name": "stdout",
     "output_type": "stream",
     "text": [
      " \\100   78kcal  ペコリーノ・ロマーノ\n",
      " \\900  337kcal  ラムのランプステーキ\n",
      "\n",
      "2品でお会計は計1000円です。\n",
      "総カロリーは415kcalです。\n"
     ]
    }
   ],
   "source": [
    "from amplify import decode_solution\n",
    "\n",
    "solution = decode_solution(q, values)\n",
    "\n",
    "# 注文する料理リスト\n",
    "ORDER_GRAND_MENUS = []\n",
    "\n",
    "# 注文する料理の価格合計\n",
    "SUM_ORDER_GRAND_MENU_PRICES = 0\n",
    "\n",
    "# 注文する料理のカロリー合計\n",
    "SUM_ORDER_GRAND_MENU_CALORIES = 0\n",
    "\n",
    "for i in range(len(solution)):\n",
    "    if solution[i] == 1:\n",
    "            ORDER_GRAND_MENUS.append(GRAND_MENU[i])\n",
    "            SUM_ORDER_GRAND_MENU_PRICES += GRAND_MENU[i][\"price\"]\n",
    "            SUM_ORDER_GRAND_MENU_CALORIES += GRAND_MENU[i][\"calorie\"]\n",
    "\n",
    "for i in range(len(ORDER_GRAND_MENUS)):\n",
    "    print((\"\\\\\" + str(ORDER_GRAND_MENUS[i][\"price\"])).rjust(5) + str(ORDER_GRAND_MENUS[i][\"calorie\"]).rjust(5) + \"kcal  \" + str(ORDER_GRAND_MENUS[i][\"name\"]))\n",
    "\n",
    "print(\"\\n\" + str(len(ORDER_GRAND_MENUS)) + \"品でお会計は\" + \"計\" + str(SUM_ORDER_GRAND_MENU_PRICES) + \"円です。\")\n",
    "print(\"総カロリーは\" + str(SUM_ORDER_GRAND_MENU_CALORIES) + \"kcalです。\")"
   ]
  },
  {
   "cell_type": "markdown",
   "metadata": {},
   "source": [
    "# レベルアップ\n",
    "### ①必ず注文する料理 or 必ず注文しない料理を指定する\n",
    "それぞれの料理の注文状況は`q[i]`で指定できます。<br />\n",
    "例として、「ミラノ風ドリア」を必ず注文し、「ほうれん草のグラタン」を必ず注文しないように指定します。<br />\n",
    "\n",
    "また、目指す合計金額を5000円に設定してみます。"
   ]
  },
  {
   "cell_type": "code",
   "execution_count": 8,
   "metadata": {},
   "outputs": [
    {
     "name": "stdout",
     "output_type": "stream",
     "text": [
      "ミラノ風ドリア\n",
      "ほうれん草のグラタン\n"
     ]
    }
   ],
   "source": [
    "# インデックスの確認\n",
    "print(GRAND_MENU_NAMES[78])\n",
    "print(GRAND_MENU_NAMES[83])"
   ]
  },
  {
   "cell_type": "code",
   "execution_count": 9,
   "metadata": {},
   "outputs": [],
   "source": [
    "q = gen_symbols(BinaryPoly, GRAND_MENU_NUM)\n",
    "\n",
    "# 必ず注文するよう指定\n",
    "q[78] = BinaryPoly(1)\n",
    "\n",
    "# 必ず注文しない指定\n",
    "q[83] = BinaryPoly(0)\n",
    "\n",
    "# 目指す合計金額\n",
    "TOTAL_AMOUNT = 5000"
   ]
  },
  {
   "cell_type": "markdown",
   "metadata": {},
   "source": [
    "#### 解を取得"
   ]
  },
  {
   "cell_type": "code",
   "execution_count": 10,
   "metadata": {},
   "outputs": [
    {
     "name": "stdout",
     "output_type": "stream",
     "text": [
      " \\350  126kcal  小エビのサラダ\n",
      " \\200   92kcal  爽やかにんじんサラダ\n",
      " \\800  110kcal  プロシュート（パルマ産熟成生ハム）（Wサイズ）\n",
      " \\400  420kcal  チョリソー（辛味ソーセージ）\n",
      " \\300  419kcal  フリウリ風フリコ\n",
      " \\800  803kcal  ラムのラグーススパゲッティ（大盛）\n",
      " \\500  668kcal  エビとブロッコリーのオーロラソース\n",
      " \\500  614kcal  イカの墨入りスパゲッティ\n",
      " \\300  521kcal  ミラノ風ドリア\n",
      " \\400  722kcal  チーズたっぷりミラノ風ドリア\n",
      " \\350  164kcal  トリフアイスクリーム\n",
      " \\100   40kcal  フルーツソース（カシス＆ブルーベリー）\n",
      "\n",
      "12品でお会計は計5000円です。\n",
      "総カロリーは4699kcalです。\n"
     ]
    }
   ],
   "source": [
    "f = BinaryPoly()\n",
    "\n",
    "for i in range(GRAND_MENU_NUM):\n",
    "    f += GRAND_MENU_PRICES[i] * q[i] \n",
    "\n",
    "f = (TOTAL_AMOUNT - f) ** 2\n",
    "\n",
    "result = solver.solve(f)\n",
    "\n",
    "if len(result) == 0:\n",
    "    raise RuntimeError(\"No solution was found\")\n",
    "    \n",
    "energy = result[0].energy\n",
    "values = result[0].values\n",
    "\n",
    "solution = decode_solution(q, values)\n",
    "\n",
    "ORDER_GRAND_MENUS = []\n",
    "\n",
    "SUM_ORDER_GRAND_MENU_PRICES = 0\n",
    "\n",
    "SUM_ORDER_GRAND_MENU_CALORIES = 0\n",
    "\n",
    "for i in range(len(solution)):\n",
    "    if solution[i] == 1:\n",
    "            ORDER_GRAND_MENUS.append(GRAND_MENU[i])\n",
    "            SUM_ORDER_GRAND_MENU_PRICES += GRAND_MENU[i][\"price\"]\n",
    "            SUM_ORDER_GRAND_MENU_CALORIES += GRAND_MENU[i][\"calorie\"]\n",
    "\n",
    "for i in range(len(ORDER_GRAND_MENUS)):\n",
    "    print((\"\\\\\" + str(ORDER_GRAND_MENUS[i][\"price\"])).rjust(5) + str(ORDER_GRAND_MENUS[i][\"calorie\"]).rjust(5) + \"kcal  \" + str(ORDER_GRAND_MENUS[i][\"name\"]))\n",
    "\n",
    "print(\"\\n\" + str(len(ORDER_GRAND_MENUS)) + \"品でお会計は\" + \"計\" + str(SUM_ORDER_GRAND_MENU_PRICES) + \"円です。\")\n",
    "print(\"総カロリーは\" + str(SUM_ORDER_GRAND_MENU_CALORIES) + \"kcalです。\")"
   ]
  },
  {
   "cell_type": "markdown",
   "metadata": {},
   "source": [
    "### ②品数を指定する\n",
    "制約条件に品数を追加します。\n",
    "\n",
    "まずは合計金額に関する制約条件を表す関数を定義します。"
   ]
  },
  {
   "cell_type": "code",
   "execution_count": 11,
   "metadata": {},
   "outputs": [],
   "source": [
    "q = gen_symbols(BinaryPoly, GRAND_MENU_NUM)\n",
    "\n",
    "f1 = BinaryPoly()\n",
    "\n",
    "for i in range(GRAND_MENU_NUM):\n",
    "    f1 += GRAND_MENU_PRICES[i] * q[i] \n",
    "\n",
    "f1 = (TOTAL_AMOUNT - f1) ** 2"
   ]
  },
  {
   "cell_type": "markdown",
   "metadata": {},
   "source": [
    "品数に関する制約条件を表す関数を考えます。<br  />\n",
    "`sum_poly`を用いて「１：注文」の状態をとるバイナリ変数が指定した品数ぴったりのとき最小をとるような関数を定義します。\n",
    "\n",
    "また、制約条件の強さもあわせて考えます。<br />\n",
    "今回は合計金額をより優先度の高い条件として、品数の制限の強さは小さく設定します。"
   ]
  },
  {
   "cell_type": "code",
   "execution_count": 12,
   "metadata": {},
   "outputs": [],
   "source": [
    "from amplify import sum_poly\n",
    "\n",
    "# 品数の指定\n",
    "ORDER_NUM = 10\n",
    "\n",
    "f2 = BinaryPoly()\n",
    "\n",
    "f2 = ((ORDER_NUM - sum_poly(q)) ** 2) * 100\n",
    "\n",
    "f2 += f1"
   ]
  },
  {
   "cell_type": "markdown",
   "metadata": {},
   "source": [
    "#### 解を取得"
   ]
  },
  {
   "cell_type": "code",
   "execution_count": 13,
   "metadata": {},
   "outputs": [
    {
     "name": "stdout",
     "output_type": "stream",
     "text": [
      " \\300  195kcal  フレッシュチーズとトマトのサラダ\n",
      " \\600  190kcal  熟成ミラノサラミ（Wサイズ）\n",
      " \\300  140kcal  アスパラガスの温サラダ\n",
      " \\800  448kcal  アロスティチーニ（ラムの串焼き、2本）（Wサイズ）\n",
      " \\600  397kcal  骨付きももの辛味チキン\n",
      " \\400  530kcal  エビクリームグラタン\n",
      " \\500  657kcal  マルゲリータピザ（Wチーズ）\n",
      " \\500  614kcal  イカの墨入りスパゲッティ\n",
      " \\500  731kcal  カルボナーラ\n",
      " \\500  770kcal  柔らかチキンのチーズ焼き\n",
      "\n",
      "10品でお会計は計5000円です。\n",
      "総カロリーは4672kcalです。\n"
     ]
    }
   ],
   "source": [
    "TOTAL_AMOUNT = 5000\n",
    "\n",
    "result = solver.solve(f2)\n",
    "\n",
    "if len(result) == 0:\n",
    "    raise RuntimeError(\"No solution was found\")\n",
    "    \n",
    "energy = result[0].energy\n",
    "values = result[0].values\n",
    "\n",
    "solution = decode_solution(q, values)\n",
    "\n",
    "ORDER_GRAND_MENUS = []\n",
    "\n",
    "SUM_ORDER_GRAND_MENU_PRICES = 0\n",
    "\n",
    "SUM_ORDER_GRAND_MENU_CALORIES = 0\n",
    "\n",
    "for i in range(len(solution)):\n",
    "    if solution[i] == 1:\n",
    "            ORDER_GRAND_MENUS.append(GRAND_MENU[i])\n",
    "            SUM_ORDER_GRAND_MENU_PRICES += GRAND_MENU[i][\"price\"]\n",
    "            SUM_ORDER_GRAND_MENU_CALORIES += GRAND_MENU[i][\"calorie\"]\n",
    "\n",
    "for i in range(len(ORDER_GRAND_MENUS)):\n",
    "    print((\"\\\\\" + str(ORDER_GRAND_MENUS[i][\"price\"])).rjust(5) + str(ORDER_GRAND_MENUS[i][\"calorie\"]).rjust(5) + \"kcal  \" + str(ORDER_GRAND_MENUS[i][\"name\"]))\n",
    "\n",
    "print(\"\\n\" + str(len(ORDER_GRAND_MENUS)) + \"品でお会計は\" + \"計\" + str(SUM_ORDER_GRAND_MENU_PRICES) + \"円です。\")\n",
    "print(\"総カロリーは\" + str(SUM_ORDER_GRAND_MENU_CALORIES) + \"kcalです。\")"
   ]
  }
 ],
 "metadata": {
  "kernelspec": {
   "display_name": "Python 3",
   "language": "python",
   "name": "python3"
  },
  "language_info": {
   "codemirror_mode": {
    "name": "ipython",
    "version": 3
   },
   "file_extension": ".py",
   "mimetype": "text/x-python",
   "name": "python",
   "nbconvert_exporter": "python",
   "pygments_lexer": "ipython3",
   "version": "3.8.5"
  }
 },
 "nbformat": 4,
 "nbformat_minor": 4
}
